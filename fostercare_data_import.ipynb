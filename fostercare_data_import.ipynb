{
 "cells": [
  {
   "cell_type": "code",
   "execution_count": 30,
   "metadata": {},
   "outputs": [],
   "source": [
    "import pandas as pd\n",
    "import matplotlib.pyplot as plt\n",
    "import seaborn as sns\n"
   ]
  },
  {
   "cell_type": "code",
   "execution_count": 18,
   "metadata": {},
   "outputs": [],
   "source": [
    "data = [['Number in foster care on September 30 of the FY', 421418, 430101, 436656, 435031, 423997,],\n",
    "        ['Number entered fostercare during the FY', 268860, 273332, 270081, 262791, 251359],\n",
    "        ['Number exited foster careduring the FY', 242051, 250500, 248386, 251161, 248669],\n",
    "        ['Number served by the fostercare system during the FY', 663406, 680433, 685007, 686151, 672594],\n",
    "        ['Number watiing to be adopted on September 30 of the FY', 109776, 116391, 123450, 125285, 122216],\n",
    "        ['Number adopted with public childwelfare agency involvement during the FY', 53536, 57176, 59469, 62997, 66035],\n",
    "        ['Number waiting to be adopted for whom parental rights (for all living parents) were terminated as of the last day of the FY',\n",
    "         62230, 65447, 69724, 71480, 71335]\n",
    "]"
   ]
  },
  {
   "cell_type": "code",
   "execution_count": 42,
   "metadata": {},
   "outputs": [],
   "source": [
    "df = pd.DataFrame(data, columns = ['Fiscal Year', 2015, 2016, 2017, 2018, 2019])"
   ]
  },
  {
   "cell_type": "code",
   "execution_count": 43,
   "metadata": {},
   "outputs": [],
   "source": [
    "df = df.transpose()\n"
   ]
  },
  {
   "cell_type": "code",
   "execution_count": 45,
   "metadata": {},
   "outputs": [],
   "source": [
    "df = df.rename(columns=df.iloc[0]).reset_index()"
   ]
  },
  {
   "cell_type": "code",
   "execution_count": 47,
   "metadata": {},
   "outputs": [],
   "source": [
    "df = df.drop([0])"
   ]
  },
  {
   "cell_type": "code",
   "execution_count": 54,
   "metadata": {},
   "outputs": [],
   "source": [
    "df = df.rename(columns={'index':'Fiscal Year'})\n"
   ]
  },
  {
   "cell_type": "code",
   "execution_count": 65,
   "metadata": {},
   "outputs": [
    {
     "data": {
      "text/html": [
       "<div>\n",
       "<style scoped>\n",
       "    .dataframe tbody tr th:only-of-type {\n",
       "        vertical-align: middle;\n",
       "    }\n",
       "\n",
       "    .dataframe tbody tr th {\n",
       "        vertical-align: top;\n",
       "    }\n",
       "\n",
       "    .dataframe thead th {\n",
       "        text-align: right;\n",
       "    }\n",
       "</style>\n",
       "<table border=\"1\" class=\"dataframe\">\n",
       "  <thead>\n",
       "    <tr style=\"text-align: right;\">\n",
       "      <th></th>\n",
       "      <th>Fiscal Year</th>\n",
       "      <th>Number in foster care on September 30 of the FY</th>\n",
       "      <th>Number entered fostercare during the FY</th>\n",
       "      <th>Number exited foster careduring the FY</th>\n",
       "      <th>Number served by the fostercare system during the FY</th>\n",
       "      <th>Number watiing to be adopted on September 30 of the FY</th>\n",
       "      <th>Number adopted with public childwelfare agency involvement during the FY</th>\n",
       "      <th>Number waiting to be adopted for whom parental rights (for all living parents) were terminated as of the last day of the FY</th>\n",
       "    </tr>\n",
       "  </thead>\n",
       "  <tbody>\n",
       "    <tr>\n",
       "      <th>1</th>\n",
       "      <td>2015</td>\n",
       "      <td>421418</td>\n",
       "      <td>268860</td>\n",
       "      <td>242051</td>\n",
       "      <td>663406</td>\n",
       "      <td>109776</td>\n",
       "      <td>53536</td>\n",
       "      <td>62230</td>\n",
       "    </tr>\n",
       "    <tr>\n",
       "      <th>2</th>\n",
       "      <td>2016</td>\n",
       "      <td>430101</td>\n",
       "      <td>273332</td>\n",
       "      <td>250500</td>\n",
       "      <td>680433</td>\n",
       "      <td>116391</td>\n",
       "      <td>57176</td>\n",
       "      <td>65447</td>\n",
       "    </tr>\n",
       "    <tr>\n",
       "      <th>3</th>\n",
       "      <td>2017</td>\n",
       "      <td>436656</td>\n",
       "      <td>270081</td>\n",
       "      <td>248386</td>\n",
       "      <td>685007</td>\n",
       "      <td>123450</td>\n",
       "      <td>59469</td>\n",
       "      <td>69724</td>\n",
       "    </tr>\n",
       "    <tr>\n",
       "      <th>4</th>\n",
       "      <td>2018</td>\n",
       "      <td>435031</td>\n",
       "      <td>262791</td>\n",
       "      <td>251161</td>\n",
       "      <td>686151</td>\n",
       "      <td>125285</td>\n",
       "      <td>62997</td>\n",
       "      <td>71480</td>\n",
       "    </tr>\n",
       "    <tr>\n",
       "      <th>5</th>\n",
       "      <td>2019</td>\n",
       "      <td>423997</td>\n",
       "      <td>251359</td>\n",
       "      <td>248669</td>\n",
       "      <td>672594</td>\n",
       "      <td>122216</td>\n",
       "      <td>66035</td>\n",
       "      <td>71335</td>\n",
       "    </tr>\n",
       "  </tbody>\n",
       "</table>\n",
       "</div>"
      ],
      "text/plain": [
       "  Fiscal Year Number in foster care on September 30 of the FY  \\\n",
       "1        2015                                          421418   \n",
       "2        2016                                          430101   \n",
       "3        2017                                          436656   \n",
       "4        2018                                          435031   \n",
       "5        2019                                          423997   \n",
       "\n",
       "  Number entered fostercare during the FY  \\\n",
       "1                                  268860   \n",
       "2                                  273332   \n",
       "3                                  270081   \n",
       "4                                  262791   \n",
       "5                                  251359   \n",
       "\n",
       "  Number exited foster careduring the FY  \\\n",
       "1                                 242051   \n",
       "2                                 250500   \n",
       "3                                 248386   \n",
       "4                                 251161   \n",
       "5                                 248669   \n",
       "\n",
       "  Number served by the fostercare system during the FY  \\\n",
       "1                                             663406     \n",
       "2                                             680433     \n",
       "3                                             685007     \n",
       "4                                             686151     \n",
       "5                                             672594     \n",
       "\n",
       "  Number watiing to be adopted on September 30 of the FY  \\\n",
       "1                                             109776       \n",
       "2                                             116391       \n",
       "3                                             123450       \n",
       "4                                             125285       \n",
       "5                                             122216       \n",
       "\n",
       "  Number adopted with public childwelfare agency involvement during the FY  \\\n",
       "1                                              53536                         \n",
       "2                                              57176                         \n",
       "3                                              59469                         \n",
       "4                                              62997                         \n",
       "5                                              66035                         \n",
       "\n",
       "  Number waiting to be adopted for whom parental rights (for all living parents) were terminated as of the last day of the FY  \n",
       "1                                              62230                                                                           \n",
       "2                                              65447                                                                           \n",
       "3                                              69724                                                                           \n",
       "4                                              71480                                                                           \n",
       "5                                              71335                                                                           "
      ]
     },
     "execution_count": 65,
     "metadata": {},
     "output_type": "execute_result"
    }
   ],
   "source": [
    "df"
   ]
  },
  {
   "cell_type": "code",
   "execution_count": 66,
   "metadata": {},
   "outputs": [],
   "source": [
    "df.to_csv('foster_stats_table')"
   ]
  },
  {
   "cell_type": "code",
   "execution_count": 67,
   "metadata": {},
   "outputs": [
    {
     "data": {
      "image/png": "[encoded data removed]",
      "text/plain": [
       "<Figure size 720x720 with 1 Axes>"
      ]
     },
     "metadata": {
      "needs_background": "light"
     },
     "output_type": "display_data"
    }
   ],
   "source": [
    "fig = plt.figure(figsize=(10,10))\n",
    "sns.barplot(x='Fiscal Year',y='Number in foster care on September 30 of the FY',data=df)\n",
    "plt.grid(True)"
   ]
  },
  {
   "cell_type": "code",
   "execution_count": null,
   "metadata": {},
   "outputs": [],
   "source": []
  }
 ],
 "metadata": {
  "kernelspec": {
   "display_name": "Python 3",
   "language": "python",
   "name": "python3"
  },
  "language_info": {
   "codemirror_mode": {
    "name": "ipython",
    "version": 3
   },
   "file_extension": ".py",
   "mimetype": "text/x-python",
   "name": "python",
   "nbconvert_exporter": "python",
   "pygments_lexer": "ipython3",
   "version": "3.8.5"
  }
 },
 "nbformat": 4,
 "nbformat_minor": 4
}
